{
  "nbformat": 4,
  "nbformat_minor": 0,
  "metadata": {
    "colab": {
      "name": "Untitled4.ipynb",
      "provenance": [],
      "collapsed_sections": []
    },
    "kernelspec": {
      "name": "python3",
      "display_name": "Python 3"
    },
    "language_info": {
      "name": "python"
    },
    "accelerator": "GPU"
  },
  "cells": [
    {
      "cell_type": "markdown",
      "metadata": {
        "id": "iSIEadGvwTai"
      },
      "source": [
        "import module"
      ]
    },
    {
      "cell_type": "code",
      "metadata": {
        "id": "jDGGXtqruBja"
      },
      "source": [
        "import numpy as np\n",
        "import matplotlib.pyplot as plt\n",
        "import torch\n",
        "from torchsummary import summary"
      ],
      "execution_count": 11,
      "outputs": []
    },
    {
      "cell_type": "markdown",
      "metadata": {
        "id": "QoA9cf-BwX8A"
      },
      "source": [
        "準備訓練資料\n"
      ]
    },
    {
      "cell_type": "code",
      "metadata": {
        "colab": {
          "base_uri": "https://localhost:8080/",
          "height": 298
        },
        "id": "LXU9TrEtvmL3",
        "outputId": "7647a97f-c736-4527-cc3b-b0aed48472c8"
      },
      "source": [
        "x_values = [i for i in range(11)]\n",
        "x_train = np.array(x_values, dtype=np.float32)\n",
        "x_train = x_train.reshape(-1, 1)\n",
        "\n",
        "y_values = [2*i + 1 for i in x_values]\n",
        "y_train = np.array(y_values, dtype=np.float32)\n",
        "y_train = y_train.reshape(-1, 1)\n",
        "\n",
        "x_values_val = [i for i in range(11, 20, 1)]\n",
        "x_val = np.array(x_values_val, dtype=np.float32)\n",
        "x_val = x_val.reshape(-1, 1)\n",
        "\n",
        "y_values_val = [2 * i + 1 for i in x_values_val]\n",
        "y_val = np.array(y_values_val, dtype=np.float32)\n",
        "y_val = y_val.reshape(-1, 1)\n",
        "\n",
        "plt.figure()\n",
        "plt.title(\"training and validation data\")\n",
        "plt.plot(x_values, y_values, label=\"y = 2x + 1 train\")\n",
        "plt.plot(x_values_val, y_values_val, label=\"y = 2x + 1 val\")\n",
        "plt.scatter(x_values, y_values, label=\"Point of value\")\n",
        "plt.legend()"
      ],
      "execution_count": 13,
      "outputs": [
        {
          "output_type": "execute_result",
          "data": {
            "text/plain": [
              "<matplotlib.legend.Legend at 0x7f95aca31c10>"
            ]
          },
          "metadata": {},
          "execution_count": 13
        },
        {
          "output_type": "display_data",
          "data": {
            "image/png": "[encoded data removed]",
            "text/plain": [
              "<Figure size 432x288 with 1 Axes>"
            ]
          },
          "metadata": {
            "needs_background": "light"
          }
        }
      ]
    },
    {
      "cell_type": "markdown",
      "metadata": {
        "id": "Vv2rrRr0wbuC"
      },
      "source": [
        "建立模型\n"
      ]
    },
    {
      "cell_type": "code",
      "metadata": {
        "colab": {
          "base_uri": "https://localhost:8080/"
        },
        "id": "xK7llQ8vvr2Y",
        "outputId": "c9efb342-7bbc-4e27-ffb6-6b7c9f893628"
      },
      "source": [
        "# Build the model\n",
        "class linearRegression(torch.nn.Module):\n",
        "  def __init__(self, inputSize, outputSize):\n",
        "    super(linearRegression, self).__init__()\n",
        "    self.linear = torch.nn.Linear(inputSize, outputSize)\n",
        "\n",
        "  def forward(self, x):\n",
        "    out = self.linear(x)\n",
        "    return out\n",
        "\n",
        "inputDim = 1  # takes variable 'x'\n",
        "outputDim = 1  # takes variable 'y'\n",
        "learningRate = 0.01\n",
        "epochs = 100\n",
        "\n",
        "model = linearRegression(inputDim, outputDim)\n",
        "device = torch.device('cuda' if torch.cuda.is_available() else 'cpu')\n",
        "\n",
        "model.to(device)\n",
        "print(model)\n",
        "\n",
        "criterion = torch.nn.MSELoss()\n",
        "optimizer = torch.optim.SGD(model.parameters(), lr=learningRate)\n",
        "train_loss = []"
      ],
      "execution_count": 15,
      "outputs": [
        {
          "output_type": "stream",
          "text": [
            "linearRegression(\n",
            "  (linear): Linear(in_features=1, out_features=1, bias=True)\n",
            ")\n"
          ],
          "name": "stdout"
        }
      ]
    },
    {
      "cell_type": "markdown",
      "metadata": {
        "id": "94Ym3ATUwe5K"
      },
      "source": [
        "開始訓練"
      ]
    },
    {
      "cell_type": "code",
      "metadata": {
        "colab": {
          "base_uri": "https://localhost:8080/",
          "height": 545
        },
        "id": "eeykDjV7v1NX",
        "outputId": "882cff03-e58d-44d2-fd02-a5f87f8fafaa"
      },
      "source": [
        "for epoch in range(epochs):\n",
        "  inputs = torch.from_numpy(x_train).to(device)\n",
        "  labels = torch.from_numpy(y_train).to(device)\n",
        "\n",
        "  optimizer.zero_grad()\n",
        "\n",
        "  # get output from the model, given the inputs\n",
        "  outputs = model(inputs)\n",
        "\n",
        "  loss = criterion(outputs, labels)\n",
        "  train_loss.append(loss.item())\n",
        "  loss.backward()\n",
        "\n",
        "  # update parameters\n",
        "  optimizer.step()\n",
        "  # print('epoch {}, loss {}'.format(epoch, loss.item()))\n",
        "\n",
        "plt.figure()\n",
        "plt.title(\"Training Loss\")\n",
        "plt.plot([i for i in range(len(train_loss))], train_loss, label=\"train loss\")\n",
        "\n",
        "# test the training ai accuracy\n",
        "with torch.no_grad():  # we don't need gradients in the testing phase\n",
        "    predicted = model((torch.from_numpy(x_train).to(device))).cpu().data.numpy()\n",
        "    val_predicted = model((torch.from_numpy(x_val).to(device))).cpu().data.numpy()\n",
        "    # print(predicted)\n",
        "\n",
        "plt.figure()\n",
        "plt.title(\"predict result\")\n",
        "plt.plot(x_train, y_train, 'go', label='True data', alpha=0.5)\n",
        "plt.plot(x_train, predicted, '--', label='Predictions', alpha=0.5)\n",
        "plt.plot(x_values_val, val_predicted, '-', label='validation', alpha=0.5)\n",
        "plt.legend(loc='best')\n",
        "plt.show()\n"
      ],
      "execution_count": 17,
      "outputs": [
        {
          "output_type": "display_data",
          "data": {
            "image/png": "[encoded data removed]",
            "text/plain": [
              "<Figure size 432x288 with 1 Axes>"
            ]
          },
          "metadata": {
            "needs_background": "light"
          }
        },
        {
          "output_type": "display_data",
          "data": {
            "image/png": "[encoded data removed]",
            "text/plain": [
              "<Figure size 432x288 with 1 Axes>"
            ]
          },
          "metadata": {
            "needs_background": "light"
          }
        }
      ]
    }
  ]
}